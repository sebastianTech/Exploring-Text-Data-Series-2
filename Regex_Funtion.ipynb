{
  "nbformat": 4,
  "nbformat_minor": 0,
  "metadata": {
    "colab": {
      "name": "Regex Funtion",
      "provenance": []
    },
    "kernelspec": {
      "name": "python3",
      "display_name": "Python 3"
    },
    "accelerator": "GPU"
  },
  "cells": [
    {
      "cell_type": "code",
      "metadata": {
        "colab": {
          "base_uri": "https://localhost:8080/"
        },
        "id": "f0etg8ZAH29u",
        "outputId": "3ed7fdec-0ddc-43ce-d916-66f2f17118ce"
      },
      "source": [
        "import re\n",
        "\n",
        "text = \"The patient has signs of turberclusosis in his left lung, lets try a new treatment with x-ray Isomaliazid, 400mgmg/ dayaya\"\n",
        "## I am looking for the word \"The\"\n",
        "pattern = \"patient\"\n",
        "## assign it to a variable \"Eg\"\n",
        "Eg = re.match(pattern, strings)\n",
        "print (Eg)"
      ],
      "execution_count": null,
      "outputs": [
        {
          "output_type": "stream",
          "name": "stdout",
          "text": [
            "None\n"
          ]
        }
      ]
    },
    {
      "cell_type": "code",
      "metadata": {
        "id": "fcCLXPZ_V1ao"
      },
      "source": [
        "import re"
      ],
      "execution_count": null,
      "outputs": []
    },
    {
      "cell_type": "code",
      "metadata": {
        "colab": {
          "base_uri": "https://localhost:8080/"
        },
        "id": "zJMHGgZFIQWz",
        "outputId": "3d21ffe6-c7cd-42b8-9174-20803d0f7d1f"
      },
      "source": [
        "text = \"The patient has signs of turberclusosis in his left lung and  his right lung is free,  lets try a new treatment with x-ray Isomaliazid, 400mgmg/ dayaya\"\n",
        "## I am looking for the word \"The\"\n",
        "pattern = \"lung\"\n",
        "## assign it to a variable \"Eg\"\n",
        "Eg = re.findall(pattern, text)\n",
        "print (Eg)"
      ],
      "execution_count": null,
      "outputs": [
        {
          "output_type": "stream",
          "name": "stdout",
          "text": [
            "['lung', 'lung']\n"
          ]
        }
      ]
    },
    {
      "cell_type": "code",
      "metadata": {
        "colab": {
          "base_uri": "https://localhost:8080/"
        },
        "id": "BEoPvIVAYCsw",
        "outputId": "33d9f252-8571-41cd-d284-7a8f5735a6f6"
      },
      "source": [
        "Eg = re.finditer(pattern,text)\n",
        "print(Eg)"
      ],
      "execution_count": null,
      "outputs": [
        {
          "output_type": "stream",
          "name": "stdout",
          "text": [
            "<callable_iterator object at 0x7f8d973a3190>\n"
          ]
        }
      ]
    },
    {
      "cell_type": "code",
      "metadata": {
        "colab": {
          "base_uri": "https://localhost:8080/"
        },
        "id": "ycTW6pS1Ztv9",
        "outputId": "60a0992e-e336-46ac-d990-946622ba0ab8"
      },
      "source": [
        "text = \"The patient has signs of turberclusosis in his left lung and  his right lung is free,  lets try a new treatment with x-ray Isomaliazid, 400mgmg/ dayaya\"\n",
        "pattern = \"ya\"\n",
        "Eg = re.sub(pattern, \"\", text)\n",
        "print (Eg)"
      ],
      "execution_count": null,
      "outputs": [
        {
          "output_type": "stream",
          "name": "stdout",
          "text": [
            "The patient has signs of turberclusosis in his left lung and  his right lung is free,  lets try a new treatment with x-ray Isomaliazid, 400mgmg/ da\n"
          ]
        }
      ]
    },
    {
      "cell_type": "code",
      "metadata": {
        "colab": {
          "base_uri": "https://localhost:8080/"
        },
        "id": "C-JH3lgrXYhI",
        "outputId": "e7aa2c5d-5c9c-4ac4-bcfc-f5e6b08b9f14"
      },
      "source": [
        "Eg = re.finditer(pattern,text)\n",
        "for a in Eg:\n",
        "  print(a.start())"
      ],
      "execution_count": null,
      "outputs": [
        {
          "output_type": "stream",
          "name": "stdout",
          "text": [
            "52\n",
            "72\n"
          ]
        }
      ]
    },
    {
      "cell_type": "code",
      "metadata": {
        "colab": {
          "base_uri": "https://localhost:8080/"
        },
        "id": "R-2YivJ2UvX8",
        "outputId": "13980bc5-ee6c-4fa1-dc98-c2505ecacd6c"
      },
      "source": [
        "te = \"The tiger is the national animal of india and national sports is hockey\"\n",
        "## I am looking for the word \"The\"\n",
        "pattern = \"national\"\n",
        "## assign it to a variable \"Eg\"\n",
        "you = re.findall(pattern, te)\n",
        "print (you)"
      ],
      "execution_count": null,
      "outputs": [
        {
          "output_type": "stream",
          "name": "stdout",
          "text": [
            "['national', 'national']\n"
          ]
        }
      ]
    }
  ]
}